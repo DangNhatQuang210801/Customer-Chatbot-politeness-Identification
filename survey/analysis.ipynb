{
 "cells": [
  {
   "cell_type": "code",
   "execution_count": 1,
   "id": "9f98d6bf-fd43-4481-8d55-8c7714987c36",
   "metadata": {},
   "outputs": [
    {
     "name": "stdout",
     "output_type": "stream",
     "text": [
      "processed_scores columns: ['Prompt_Id', 'condition', 'CMP', 'CSAT', 'HL', 'PI', 'reply_id', 'bot_mask', 'reply_text']\n",
      "answers_long columns: ['participant_id', 'question_text', 'response', 'q_norm', 'question_text_bm', 'pair_id', 'chatbot', 'scenario']\n",
      "        n  mean_delta    sem      t      p\n",
      "metric                                    \n",
      "PI      5      -0.193  0.052 -3.733  0.020\n",
      "CSAT    3      -0.091  0.101 -0.906  0.461\n",
      "HL      3       0.095  0.197  0.483  0.677\n",
      "CMP     3      -0.412  0.361 -1.141  0.372\n"
     ]
    },
    {
     "data": {
      "image/png": "[encoded data removed]",
      "text/plain": [
       "<Figure size 600x400 with 1 Axes>"
      ]
     },
     "metadata": {},
     "output_type": "display_data"
    },
    {
     "name": "stdout",
     "output_type": "stream",
     "text": [
      "qa ok\n"
     ]
    }
   ],
   "source": [
    "# analysis from processed_scores + quick QA\n",
    "import pandas as pd\n",
    "import numpy as np\n",
    "from scipy import stats\n",
    "import matplotlib.pyplot as plt\n",
    "from pathlib import Path\n",
    "\n",
    "# helpers\n",
    "def robust_read_csv(path):\n",
    "    # try common encodings and separators\n",
    "    for enc in [\"utf-8-sig\", \"utf-8\", \"cp1252\", \"latin1\"]:\n",
    "        for sep in [\",\", \";\", \"\\t\"]:\n",
    "            try:\n",
    "                df = pd.read_csv(path, encoding=enc, sep=sep)\n",
    "                return df\n",
    "            except Exception:\n",
    "                pass\n",
    "    raise RuntimeError(f\"could not read {path}\")\n",
    "\n",
    "# load inputs\n",
    "ps = robust_read_csv(\"processed_scores.csv\")   # processed scores (Prompt_Id × condition)\n",
    "al = robust_read_csv(\"answers_long.csv\")       # long data (participant × item)\n",
    "\n",
    "print(\"processed_scores columns:\", list(ps.columns))\n",
    "print(\"answers_long columns:\", list(al.columns)[:8])\n",
    "\n",
    "# set up metrics\n",
    "metrics_all = [\"PI\", \"CSAT\", \"HL\", \"CMP\"]\n",
    "metrics = [m for m in metrics_all if m in ps.columns]\n",
    "if not metrics:\n",
    "    raise ValueError(f\"no metric columns in processed_scores: {list(ps.columns)}\")\n",
    "\n",
    "# aggregate to Prompt × Condition (safe even if already aggregated)\n",
    "agg = ps.groupby([\"Prompt_Id\", \"condition\"], as_index=False)[metrics].mean()\n",
    "\n",
    "# pivot A and B side by side\n",
    "pv = agg.pivot(index=\"Prompt_Id\", columns=\"condition\", values=metrics)\n",
    "pv.columns = [f\"{m}_{c}\" for m, c in pv.columns]\n",
    "pv = pv.reset_index()\n",
    "\n",
    "# compute B - A deltas per prompt\n",
    "for m in metrics:\n",
    "    a, b = f\"{m}_A\", f\"{m}_B\"\n",
    "    if a in pv.columns and b in pv.columns:\n",
    "        pv[f\"Delta_{m}\"] = pv[b] - pv[a]\n",
    "\n",
    "# summarize across prompts with Welch 1-sample t-test on deltas\n",
    "rows = []\n",
    "for m in metrics:\n",
    "    dcol = f\"Delta_{m}\"\n",
    "    if dcol not in pv.columns:\n",
    "        continue\n",
    "    deltas = pd.to_numeric(pv[dcol], errors=\"coerce\").dropna()\n",
    "    n = len(deltas)\n",
    "    if n == 0:\n",
    "        rows.append(dict(metric=m, n=0, mean_delta=np.nan, sem=np.nan, t=np.nan, p=np.nan))\n",
    "        continue\n",
    "    mean_delta = deltas.mean()\n",
    "    sem = deltas.std(ddof=1) / np.sqrt(n) if n > 1 else np.nan\n",
    "    if n > 1:\n",
    "        t, p = stats.ttest_1samp(deltas, 0.0, nan_policy=\"omit\")\n",
    "    else:\n",
    "        t, p = np.nan, np.nan\n",
    "    rows.append(dict(metric=m, n=n, mean_delta=mean_delta, sem=sem, t=t, p=p))\n",
    "\n",
    "summary_df = pd.DataFrame(rows).set_index(\"metric\").reindex(metrics)\n",
    "summary_df = summary_df.round(3)\n",
    "print(summary_df)\n",
    "\n",
    "# save artifacts\n",
    "pv.to_csv(\"analysis_per_prompt.csv\", index=False, encoding=\"utf-8-sig\")\n",
    "summary_df.to_csv(\"analysis_summary.csv\", encoding=\"utf-8-sig\")\n",
    "\n",
    "# plot overall B-A deltas with SEM error bars\n",
    "if not summary_df.empty and \"mean_delta\" in summary_df:\n",
    "    fig, ax = plt.subplots(figsize=(6,4))\n",
    "    ax.bar(summary_df.index, summary_df[\"mean_delta\"], yerr=summary_df[\"sem\"], capsize=5)\n",
    "    ax.axhline(0, color=\"black\", linestyle=\"--\", linewidth=1)\n",
    "    ax.set_ylabel(\"Delta (B − A)\")\n",
    "    ax.set_title(\"Overall chatbot differences\")\n",
    "    plt.tight_layout()\n",
    "    plt.show()\n",
    "else:\n",
    "    print(\"nothing to plot\")\n",
    "\n",
    "# quick QA\n",
    "# check 4 metrics exist\n",
    "need_cols = {\"PI\", \"CSAT\", \"HL\", \"CMP\"}\n",
    "missing = sorted(list(need_cols - set(ps.columns)))\n",
    "assert not missing, f\"missing columns in processed_scores: {missing}\"\n",
    "\n",
    "# check CSAT present in long data\n",
    "assert (al[\"construct\"].astype(str).str.upper() == \"CSAT\").any(), \"no CSAT rows in answers_long\"\n",
    "\n",
    "# check each prompt in processed_scores has at least one condition recorded\n",
    "cov = (ps.groupby(\"Prompt_Id\")[\"condition\"]\n",
    "         .apply(lambda s: sorted(s.dropna().unique().tolist())))\n",
    "assert cov.apply(len).ge(1).all(), \"a prompt has no A or B rows in processed_scores\"\n",
    "print(\"qa ok\")\n"
   ]
  },
  {
   "cell_type": "code",
   "execution_count": null,
   "id": "00fde2e6-b4d3-4a12-b93c-8c76c2b937ac",
   "metadata": {},
   "outputs": [],
   "source": []
  }
 ],
 "metadata": {
  "kernelspec": {
   "display_name": "Python 3 (ipykernel)",
   "language": "python",
   "name": "python3"
  },
  "language_info": {
   "codemirror_mode": {
    "name": "ipython",
    "version": 3
   },
   "file_extension": ".py",
   "mimetype": "text/x-python",
   "name": "python",
   "nbconvert_exporter": "python",
   "pygments_lexer": "ipython3",
   "version": "3.11.9"
  }
 },
 "nbformat": 4,
 "nbformat_minor": 5
}
