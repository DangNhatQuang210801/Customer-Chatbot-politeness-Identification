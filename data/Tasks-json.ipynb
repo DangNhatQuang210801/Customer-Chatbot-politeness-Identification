{
 "cells": [
  {
   "cell_type": "code",
   "execution_count": 3,
   "id": "3aacc7c2-477b-4a65-a59f-eb721fccaf7c",
   "metadata": {},
   "outputs": [
    {
     "name": "stdout",
     "output_type": "stream",
     "text": [
      "Wrote 120 tasks → tasks_data.json\n",
      "Distribution: Chatbot A = 60, Chatbot B = 60\n"
     ]
    }
   ],
   "source": [
    "import json\n",
    "from pathlib import Path\n",
    "import pandas as pd\n",
    "\n",
    "CSV_PATH = Path(\"Replies_Tasks.csv\")        \n",
    "OUT_JSON = Path(\"tasks_data.json\")           \n",
    "\n",
    "df = pd.read_csv(CSV_PATH)\n",
    "\n",
    "required = {\"Prompt_Id\", \"Reply_Id\", \"condition\", \"reply_text\"}\n",
    "missing = required - set(df.columns)\n",
    "if missing:\n",
    "    raise ValueError(f\"Missing required columns: {sorted(missing)}. \"\n",
    "                     f\"Found: {list(df.columns)}\")\n",
    "\n",
    "def is_nonempty_text(x: str) -> bool:\n",
    "    return isinstance(x, str) and len(x.strip()) > 0\n",
    "\n",
    "df = df[df[\"reply_text\"].apply(is_nonempty_text)].copy()\n",
    "df.reset_index(drop=True, inplace=True)\n",
    "\n",
    "valid_conditions = {\"A\", \"B\"}\n",
    "bad = set(df[\"condition\"].dropna().astype(str)) - valid_conditions\n",
    "if bad:\n",
    "    raise ValueError(f\"Unexpected condition values: {bad}. \"\n",
    "                     f\"Expected only {valid_conditions}.\")\n",
    "\n",
    "df[\"bot_mask\"] = df[\"condition\"].map({\"A\": \"Chatbot A\", \"B\": \"Chatbot B\"})\n",
    "\n",
    "tasks = []\n",
    "for i, row in df.iterrows():\n",
    "    task = {\n",
    "        \"id\": int(i + 1),\n",
    "        \"data\": {\n",
    "            \"reply_text\": row[\"reply_text\"],\n",
    "            \"bot_mask\": row[\"bot_mask\"],\n",
    "        },\n",
    "        \"meta\": {\n",
    "            \"Prompt_Id\": str(row[\"Prompt_Id\"]),\n",
    "            \"Reply_Id\": str(row[\"Reply_Id\"]),\n",
    "            \"condition\": str(row[\"condition\"]),\n",
    "        }\n",
    "    }\n",
    "    tasks.append(task)\n",
    "\n",
    "OUT_JSON.write_text(json.dumps(tasks, ensure_ascii=False, indent=2), encoding=\"utf-8\")\n",
    "\n",
    "n = len(tasks)\n",
    "nA = (df[\"bot_mask\"] == \"Chatbot A\").sum()\n",
    "nB = (df[\"bot_mask\"] == \"Chatbot B\").sum()\n",
    "print(f\"Wrote {n} tasks → {OUT_JSON}\")\n",
    "print(f\"Distribution: Chatbot A = {nA}, Chatbot B = {nB}\")\n",
    "if abs(nA - nB) > 0:\n",
    "    print(\"Note: A/B counts differ. If this isn’t intended, check your CSV.\")"
   ]
  },
  {
   "cell_type": "code",
   "execution_count": null,
   "id": "3543f400-c4b9-4906-916c-1c724de3dc2e",
   "metadata": {},
   "outputs": [],
   "source": []
  }
 ],
 "metadata": {
  "kernelspec": {
   "display_name": "Python 3 (ipykernel)",
   "language": "python",
   "name": "python3"
  },
  "language_info": {
   "codemirror_mode": {
    "name": "ipython",
    "version": 3
   },
   "file_extension": ".py",
   "mimetype": "text/x-python",
   "name": "python",
   "nbconvert_exporter": "python",
   "pygments_lexer": "ipython3",
   "version": "3.13.2"
  }
 },
 "nbformat": 4,
 "nbformat_minor": 5
}
