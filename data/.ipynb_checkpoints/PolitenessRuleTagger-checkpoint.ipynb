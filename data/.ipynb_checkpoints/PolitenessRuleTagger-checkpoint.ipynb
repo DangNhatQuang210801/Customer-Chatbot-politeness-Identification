{
 "cells": [
  {
   "cell_type": "markdown",
   "id": "4e3fe147",
   "metadata": {},
   "source": [
    "# Politeness Rule Tagger (Label Studio Predictions)\n",
    "\n",
    "This notebook loads `tasks_clean.json`, applies **rule-based** tags (no ML), and writes `predictions_fixed.json` for **Settings → Predictions** upload in Label Studio.\n",
    "\n",
    "**Edit the `CUSTOM_RULES` dict cell** if you want to tweak the regex rules."
   ]
  },
  {
   "cell_type": "code",
   "execution_count": 8,
   "id": "235d7599",
   "metadata": {},
   "outputs": [
    {
     "ename": "FileNotFoundError",
     "evalue": "[Errno 2] No such file or directory: 'E:\\\\RUHR Bochum\\\\Research Project 1\\\\Politeness Research 1\\\\data\\\\tasks_clean.json'",
     "output_type": "error",
     "traceback": [
      "\u001b[31m---------------------------------------------------------------------------\u001b[39m",
      "\u001b[31mFileNotFoundError\u001b[39m                         Traceback (most recent call last)",
      "\u001b[36mCell\u001b[39m\u001b[36m \u001b[39m\u001b[32mIn[8]\u001b[39m\u001b[32m, line 9\u001b[39m\n\u001b[32m      6\u001b[39m MODEL_VERSION = \u001b[33m'\u001b[39m\u001b[33mrules-v3-multilabel\u001b[39m\u001b[33m'\u001b[39m\n\u001b[32m      8\u001b[39m \u001b[38;5;66;03m# Load tasks\u001b[39;00m\n\u001b[32m----> \u001b[39m\u001b[32m9\u001b[39m \u001b[38;5;28;01mwith\u001b[39;00m \u001b[38;5;28;43mopen\u001b[39;49m\u001b[43m(\u001b[49m\u001b[43mTASKS_PATH\u001b[49m\u001b[43m,\u001b[49m\u001b[43m \u001b[49m\u001b[33;43m'\u001b[39;49m\u001b[33;43mr\u001b[39;49m\u001b[33;43m'\u001b[39;49m\u001b[43m,\u001b[49m\u001b[43m \u001b[49m\u001b[43mencoding\u001b[49m\u001b[43m=\u001b[49m\u001b[33;43m'\u001b[39;49m\u001b[33;43mutf-8\u001b[39;49m\u001b[33;43m'\u001b[39;49m\u001b[43m)\u001b[49m \u001b[38;5;28;01mas\u001b[39;00m f:\n\u001b[32m     10\u001b[39m     tasks = json.load(f)\n\u001b[32m     11\u001b[39m \u001b[38;5;28mlen\u001b[39m(tasks)\n",
      "\u001b[36mFile \u001b[39m\u001b[32m~\\AppData\\Local\\Programs\\Python\\Python313\\Lib\\site-packages\\IPython\\core\\interactiveshell.py:325\u001b[39m, in \u001b[36m_modified_open\u001b[39m\u001b[34m(file, *args, **kwargs)\u001b[39m\n\u001b[32m    318\u001b[39m \u001b[38;5;28;01mif\u001b[39;00m file \u001b[38;5;129;01min\u001b[39;00m {\u001b[32m0\u001b[39m, \u001b[32m1\u001b[39m, \u001b[32m2\u001b[39m}:\n\u001b[32m    319\u001b[39m     \u001b[38;5;28;01mraise\u001b[39;00m \u001b[38;5;167;01mValueError\u001b[39;00m(\n\u001b[32m    320\u001b[39m         \u001b[33mf\u001b[39m\u001b[33m\"\u001b[39m\u001b[33mIPython won\u001b[39m\u001b[33m'\u001b[39m\u001b[33mt let you open fd=\u001b[39m\u001b[38;5;132;01m{\u001b[39;00mfile\u001b[38;5;132;01m}\u001b[39;00m\u001b[33m by default \u001b[39m\u001b[33m\"\u001b[39m\n\u001b[32m    321\u001b[39m         \u001b[33m\"\u001b[39m\u001b[33mas it is likely to crash IPython. If you know what you are doing, \u001b[39m\u001b[33m\"\u001b[39m\n\u001b[32m    322\u001b[39m         \u001b[33m\"\u001b[39m\u001b[33myou can use builtins\u001b[39m\u001b[33m'\u001b[39m\u001b[33m open.\u001b[39m\u001b[33m\"\u001b[39m\n\u001b[32m    323\u001b[39m     )\n\u001b[32m--> \u001b[39m\u001b[32m325\u001b[39m \u001b[38;5;28;01mreturn\u001b[39;00m \u001b[43mio_open\u001b[49m\u001b[43m(\u001b[49m\u001b[43mfile\u001b[49m\u001b[43m,\u001b[49m\u001b[43m \u001b[49m\u001b[43m*\u001b[49m\u001b[43margs\u001b[49m\u001b[43m,\u001b[49m\u001b[43m \u001b[49m\u001b[43m*\u001b[49m\u001b[43m*\u001b[49m\u001b[43mkwargs\u001b[49m\u001b[43m)\u001b[49m\n",
      "\u001b[31mFileNotFoundError\u001b[39m: [Errno 2] No such file or directory: 'E:\\\\RUHR Bochum\\\\Research Project 1\\\\Politeness Research 1\\\\data\\\\tasks_clean.json'"
     ]
    }
   ],
   "source": [
    "import json, re\n",
    "from pathlib import Path\n",
    "\n",
    "TASKS_PATH = Path('E:/RUHR Bochum/Research Project 1/Politeness Research 1/data/tasks_clean.json')  # change if needed\n",
    "OUT_PATH = Path('E:/RUHR Bochum/Research Project 1/Politeness Research 1/data/predictions_fixed.json')\n",
    "MODEL_VERSION = 'rules-v3-multilabel'\n",
    "\n",
    "# Load tasks\n",
    "with open(TASKS_PATH, 'r', encoding='utf-8') as f:\n",
    "    tasks = json.load(f)\n",
    "len(tasks)"
   ]
  },
  {
   "cell_type": "code",
   "execution_count": 2,
   "id": "60c82d68",
   "metadata": {},
   "outputs": [],
   "source": [
    "# Customize rules here (regex). Keep it simple and transparent; NO ML.\n",
    "CUSTOM_RULES = {\n",
    "    'T02_Apology': r\"\\b(sorry|apolog(?:y|ize|ise|ized|ised|izing|ising)|apologies|regret)\\b\",\n",
    "    'T01_EmpathyGratitude': r\"\\b(thank(?:s| you)|appreciate|i understand|we understand|we'?re here to help|happy to help)\\b\",\n",
    "    'T03_PositiveFlex': r\"\\b(expedite|prioriti[sz]e|urgent|we'?ll (try|do our best)|i'?ll (try|do my best))\\b\",\n",
    "    'T04_MitigationHedge': r\"\\b(might|may|could|usually|typically|generally|possibly|perhaps|unfortunately)\\b\",\n",
    "    'T05_GuidancePolicy': r\"\\b(go to|open|select|click|choose|visit|navigate|tap|your orders|help center|policy|return within|terms|start a return|request a refund)\\b\",\n",
    "    'T06_RefusalMinus': r\"\\b(can'?t|cannot|unable to|not possible|won'?t be able)\\b\",\n",
    "}\n",
    "\n",
    "patterns = {k: re.compile(v, re.I) for k, v in CUSTOM_RULES.items()}"
   ]
  },
  {
   "cell_type": "code",
   "execution_count": 3,
   "id": "408f6c22",
   "metadata": {},
   "outputs": [
    {
     "ename": "NameError",
     "evalue": "name 'tasks' is not defined",
     "output_type": "error",
     "traceback": [
      "\u001b[31m---------------------------------------------------------------------------\u001b[39m",
      "\u001b[31mNameError\u001b[39m                                 Traceback (most recent call last)",
      "\u001b[36mCell\u001b[39m\u001b[36m \u001b[39m\u001b[32mIn[3]\u001b[39m\u001b[32m, line 7\u001b[39m\n\u001b[32m      4\u001b[39m     \u001b[38;5;28;01mreturn\u001b[39;00m labels \u001b[38;5;129;01mor\u001b[39;00m [\u001b[33m'\u001b[39m\u001b[33mskip/unclear\u001b[39m\u001b[33m'\u001b[39m]\n\u001b[32m      6\u001b[39m predictions = []\n\u001b[32m----> \u001b[39m\u001b[32m7\u001b[39m \u001b[38;5;28;01mfor\u001b[39;00m item \u001b[38;5;129;01min\u001b[39;00m \u001b[43mtasks\u001b[49m:\n\u001b[32m      8\u001b[39m     task_id = item.get(\u001b[33m'\u001b[39m\u001b[33mid\u001b[39m\u001b[33m'\u001b[39m)\n\u001b[32m      9\u001b[39m     text = item.get(\u001b[33m'\u001b[39m\u001b[33mdata\u001b[39m\u001b[33m'\u001b[39m, {}).get(\u001b[33m'\u001b[39m\u001b[33mreply_text\u001b[39m\u001b[33m'\u001b[39m, \u001b[33m'\u001b[39m\u001b[33m'\u001b[39m)\n",
      "\u001b[31mNameError\u001b[39m: name 'tasks' is not defined"
     ]
    }
   ],
   "source": [
    "def predict_labels(text: str):\n",
    "    t = (text or '').lower()\n",
    "    labels = [tag for tag, pat in patterns.items() if pat.search(t)]\n",
    "    return labels or ['skip/unclear']\n",
    "\n",
    "predictions = []\n",
    "for item in tasks:\n",
    "    task_id = item.get('id')\n",
    "    text = item.get('data', {}).get('reply_text', '')\n",
    "    labels = predict_labels(text)\n",
    "    predictions.append({\n",
    "        'task': task_id,\n",
    "        'model_version': MODEL_VERSION,\n",
    "        'score': 0.5,\n",
    "        'result': [{\n",
    "            'from_name': 'label',\n",
    "            'to_name': 'reply_text',\n",
    "            'type': 'choices',\n",
    "            'value': {'choices': labels}\n",
    "        }]\n",
    "    })\n",
    "len(predictions), predictions[0]['result'][0]['value']"
   ]
  },
  {
   "cell_type": "code",
   "execution_count": 4,
   "id": "a9d85987",
   "metadata": {},
   "outputs": [
    {
     "ename": "FileNotFoundError",
     "evalue": "[Errno 2] No such file or directory: '\\\\mnt\\\\data\\\\predictions_fixed.json'",
     "output_type": "error",
     "traceback": [
      "\u001b[31m---------------------------------------------------------------------------\u001b[39m",
      "\u001b[31mFileNotFoundError\u001b[39m                         Traceback (most recent call last)",
      "\u001b[36mCell\u001b[39m\u001b[36m \u001b[39m\u001b[32mIn[4]\u001b[39m\u001b[32m, line 1\u001b[39m\n\u001b[32m----> \u001b[39m\u001b[32m1\u001b[39m \u001b[38;5;28;01mwith\u001b[39;00m \u001b[38;5;28;43mopen\u001b[39;49m\u001b[43m(\u001b[49m\u001b[43mOUT_PATH\u001b[49m\u001b[43m,\u001b[49m\u001b[43m \u001b[49m\u001b[33;43m'\u001b[39;49m\u001b[33;43mw\u001b[39;49m\u001b[33;43m'\u001b[39;49m\u001b[43m,\u001b[49m\u001b[43m \u001b[49m\u001b[43mencoding\u001b[49m\u001b[43m=\u001b[49m\u001b[33;43m'\u001b[39;49m\u001b[33;43mutf-8\u001b[39;49m\u001b[33;43m'\u001b[39;49m\u001b[43m)\u001b[49m \u001b[38;5;28;01mas\u001b[39;00m f:\n\u001b[32m      2\u001b[39m     json.dump(predictions, f, ensure_ascii=\u001b[38;5;28;01mFalse\u001b[39;00m, indent=\u001b[32m2\u001b[39m)\n\u001b[32m      3\u001b[39m \u001b[38;5;28mprint\u001b[39m(\u001b[33m'\u001b[39m\u001b[33mWrote\u001b[39m\u001b[33m'\u001b[39m, \u001b[38;5;28mlen\u001b[39m(predictions), \u001b[33m'\u001b[39m\u001b[33mpredictions to\u001b[39m\u001b[33m'\u001b[39m, OUT_PATH)\n",
      "\u001b[36mFile \u001b[39m\u001b[32m~\\AppData\\Local\\Programs\\Python\\Python313\\Lib\\site-packages\\IPython\\core\\interactiveshell.py:325\u001b[39m, in \u001b[36m_modified_open\u001b[39m\u001b[34m(file, *args, **kwargs)\u001b[39m\n\u001b[32m    318\u001b[39m \u001b[38;5;28;01mif\u001b[39;00m file \u001b[38;5;129;01min\u001b[39;00m {\u001b[32m0\u001b[39m, \u001b[32m1\u001b[39m, \u001b[32m2\u001b[39m}:\n\u001b[32m    319\u001b[39m     \u001b[38;5;28;01mraise\u001b[39;00m \u001b[38;5;167;01mValueError\u001b[39;00m(\n\u001b[32m    320\u001b[39m         \u001b[33mf\u001b[39m\u001b[33m\"\u001b[39m\u001b[33mIPython won\u001b[39m\u001b[33m'\u001b[39m\u001b[33mt let you open fd=\u001b[39m\u001b[38;5;132;01m{\u001b[39;00mfile\u001b[38;5;132;01m}\u001b[39;00m\u001b[33m by default \u001b[39m\u001b[33m\"\u001b[39m\n\u001b[32m    321\u001b[39m         \u001b[33m\"\u001b[39m\u001b[33mas it is likely to crash IPython. If you know what you are doing, \u001b[39m\u001b[33m\"\u001b[39m\n\u001b[32m    322\u001b[39m         \u001b[33m\"\u001b[39m\u001b[33myou can use builtins\u001b[39m\u001b[33m'\u001b[39m\u001b[33m open.\u001b[39m\u001b[33m\"\u001b[39m\n\u001b[32m    323\u001b[39m     )\n\u001b[32m--> \u001b[39m\u001b[32m325\u001b[39m \u001b[38;5;28;01mreturn\u001b[39;00m \u001b[43mio_open\u001b[49m\u001b[43m(\u001b[49m\u001b[43mfile\u001b[49m\u001b[43m,\u001b[49m\u001b[43m \u001b[49m\u001b[43m*\u001b[49m\u001b[43margs\u001b[49m\u001b[43m,\u001b[49m\u001b[43m \u001b[49m\u001b[43m*\u001b[49m\u001b[43m*\u001b[49m\u001b[43mkwargs\u001b[49m\u001b[43m)\u001b[49m\n",
      "\u001b[31mFileNotFoundError\u001b[39m: [Errno 2] No such file or directory: '\\\\mnt\\\\data\\\\predictions_fixed.json'"
     ]
    }
   ],
   "source": [
    "with open(OUT_PATH, 'w', encoding='utf-8') as f:\n",
    "    json.dump(predictions, f, ensure_ascii=False, indent=2)\n",
    "print('Wrote', len(predictions), 'predictions to', OUT_PATH)\n",
    "predictions[:2]"
   ]
  },
  {
   "cell_type": "code",
   "execution_count": null,
   "id": "53fdd705-d35b-422f-843a-153cee1d9123",
   "metadata": {},
   "outputs": [],
   "source": []
  },
  {
   "cell_type": "code",
   "execution_count": null,
   "id": "cee96d5e-5151-4b75-8b1d-7b06fb0a1781",
   "metadata": {},
   "outputs": [],
   "source": []
  },
  {
   "cell_type": "code",
   "execution_count": null,
   "id": "8e6d3454-a2b9-4889-a983-670d9a36d954",
   "metadata": {},
   "outputs": [],
   "source": []
  }
 ],
 "metadata": {
  "kernelspec": {
   "display_name": "Python 3 (ipykernel)",
   "language": "python",
   "name": "python3"
  },
  "language_info": {
   "codemirror_mode": {
    "name": "ipython",
    "version": 3
   },
   "file_extension": ".py",
   "mimetype": "text/x-python",
   "name": "python",
   "nbconvert_exporter": "python",
   "pygments_lexer": "ipython3",
   "version": "3.13.2"
  }
 },
 "nbformat": 4,
 "nbformat_minor": 5
}
